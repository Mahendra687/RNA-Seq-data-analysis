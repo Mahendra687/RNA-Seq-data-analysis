{
 "cells": [
  {
   "cell_type": "markdown",
   "id": "fd798600-b384-4758-9d17-d1ad4ac8ecf6",
   "metadata": {},
   "source": [
    "<p style=\"background-color:black; font-family:camtasia; font-size:120%; color:white; text-align:center; border-radius:15px 50px; padding:7px\">\n",
    "    Objectives for creating a differential gene expression analysis pipeline using Python/Biopython on Jupyter Notebook.\n",
    "</p>"
   ]
  },
  {
   "cell_type": "markdown",
   "id": "76800126-8c0c-4b81-97ce-0db3cf4126f0",
   "metadata": {},
   "source": [
    "**Objective1:** to set up an environment that includes all the necessary dependencies and libraries in Python/Biopython:\n",
    "- PyDESeq2/Scanpy\n",
    "- SRA-Toolkit\n",
    "- Nextflow\n",
    "- TopHat/Bowtie\n",
    "- FastQC, Trimmomatic, Trim Galore, cutadapt or fastp\n",
    "\n",
    "**Objective2:** Extract the Dataset using the SRA-Toolkit associated with the SRA accession number\n",
    "\n",
    "**Objective3:** Processing the Dataset using FastQC, Trimmomatic, Trim Galore, cutadapt or fastp\n",
    "- Quality Control: Use tools like `FastQC` to check the quality of the reads.\n",
    "- Trimming: If necessary, use tools like `Trimmomatic`, `Trim Galore` or `cutadapt` to trim low-quality sequences or adapters.\n",
    "- Alignment with Nextflow and TopHat/Bowtie: Use Nextflow to automate the alignment process with TopHat or Bowtie.\n",
    "\n",
    "**Objective4:**: Data Exploration and Normalization\n",
    "\n",
    "- Load the Data: First, import aligned data (in BAM/SAM format) and prepare it for analysis with PyDESeq2.\n",
    "- Load count data and sample information (metadata)\n",
    "- Normalization: Perform normalization to account for differences in sequencing depth.\n",
    "\n",
    "**Objecive5:** Differential Gene Expression Analysis\n",
    "- Run DGA Analysis: Use PyDESeq2 to conduct the analysis\n",
    "\n",
    "**Objecive6:** Visualization\n",
    "- Volcano Plot\n",
    "- Heatmap of Top DEGs\n",
    "\n",
    "**Objecive7:** Result Interpretation: identify key genes that are significantly up-or down-regulated in AD"
   ]
  },
  {
   "cell_type": "markdown",
   "id": "03256614-528a-4c74-8b0c-a4131f3b3f5e",
   "metadata": {},
   "source": []
  }
 ],
 "metadata": {
  "kernelspec": {
   "display_name": "Python 3 (ipykernel)",
   "language": "python",
   "name": "python3"
  },
  "language_info": {
   "codemirror_mode": {
    "name": "ipython",
    "version": 3
   },
   "file_extension": ".py",
   "mimetype": "text/x-python",
   "name": "python",
   "nbconvert_exporter": "python",
   "pygments_lexer": "ipython3",
   "version": "3.12.2"
  }
 },
 "nbformat": 4,
 "nbformat_minor": 5
}
